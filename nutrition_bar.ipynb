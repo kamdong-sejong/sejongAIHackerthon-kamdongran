{
 "cells": [
  {
   "cell_type": "markdown",
   "metadata": {},
   "source": [
    "# 메뉴 선택 시 사용자의 영양상태 변화 시뮬레이션"
   ]
  },
  {
   "cell_type": "code",
   "execution_count": 8,
   "metadata": {},
   "outputs": [],
   "source": [
    "import numpy as np\n",
    "import pandas as pd\n",
    "from firebase import firebase"
   ]
  },
  {
   "cell_type": "code",
   "execution_count": 9,
   "metadata": {},
   "outputs": [],
   "source": [
    "# 최대 줄 수 설정\n",
    "pd.set_option('display.max_rows', 5000)\n",
    "# 최대 열 수 설정\n",
    "pd.set_option('display.max_columns', 100)\n",
    "# 표시할 가로의 길이\n",
    "pd.set_option('display.width', 1000)"
   ]
  },
  {
   "cell_type": "code",
   "execution_count": 10,
   "metadata": {},
   "outputs": [
    {
     "name": "stdout",
     "output_type": "stream",
     "text": [
      "[{'food_type': '구이류', 'latitude': 37.53150452, 'longtitude': 127.0631217, 'main_food': '꿩불고기', 'main_ingridient': '', 'name': 0}, {'food_type': '구이류', 'latitude': 37.53303644, 'longtitude': 127.0692728, 'main_food': '닭갈비', 'main_ingridient': '', 'name': 1}, {'food_type': '구이류', 'latitude': 37.54707596, 'longtitude': 127.0835433, 'main_food': '닭갈비', 'main_ingridient': '', 'name': 2}, {'food_type': '구이류', 'latitude': 37.54209058, 'longtitude': 127.0552627, 'main_food': '닭꼬치', 'main_ingridient': '', 'name': 3}, {'food_type': '구이류', 'latitude': 37.53735734, 'longtitude': 127.0776472, 'main_food': '더덕구이', 'main_ingridient': '', 'name': 4}]\n",
      "1\n",
      "닭갈비\n"
     ]
    }
   ],
   "source": [
    "firebase = firebase.FirebaseApplication(\"https://kamdong2-d9688.firebaseio.com/\")\n",
    "\n",
    "# user 데이터 가져오기\n",
    "user = firebase.get('/kamdong2-d9688/User/-MBFI7FtfarEz9bhcBsG','')\n",
    "sim_user = user\n",
    "\n",
    "#retreiving restaurant data 전체 다 받아오기.\n",
    "res_list= firebase.get('/kamdong2-d9688/recommendation/','')\n",
    "res_list=list(res_list.values())\n",
    "print(res_list)\n",
    "\n",
    "#Front에서 리스트 인덱스 선택\n",
    "selected = input()\n",
    "m_food = res_list[int(selected)]['main_food']\n",
    "print(m_food)"
   ]
  },
  {
   "cell_type": "code",
   "execution_count": 11,
   "metadata": {},
   "outputs": [],
   "source": [
    "df= pd.read_excel('foodsample.xlsx')"
   ]
  },
  {
   "cell_type": "code",
   "execution_count": 12,
   "metadata": {},
   "outputs": [
    {
     "data": {
      "text/plain": [
       "식품명                닭갈비\n",
       "식품군                구이류\n",
       "1회제공량              400\n",
       "에너지(Kcal)       595.61\n",
       "단백질(g)            45.9\n",
       "지질(g)             25.8\n",
       "탄수화물(g)           44.9\n",
       "총당류(g)            21.2\n",
       "나트륨(mg)        1535.83\n",
       "총 포화 지방산(g)          6\n",
       "트랜스 지방산(g)         0.2\n",
       "Name: 1, dtype: object"
      ]
     },
     "execution_count": 12,
     "metadata": {},
     "output_type": "execute_result"
    }
   ],
   "source": [
    "# 사용자가 선택한 메뉴의 영양성분을 참조한다.\n",
    "select=df[df['식품명'].str.contains(m_food)==1]\n",
    "select=select.iloc[0]\n",
    "select"
   ]
  },
  {
   "cell_type": "code",
   "execution_count": 13,
   "metadata": {},
   "outputs": [
    {
     "name": "stdout",
     "output_type": "stream",
     "text": [
      "1\n",
      "Update Succeed\n",
      "0\n",
      "1\n",
      "0\n",
      "1\n",
      "Update Succeed\n"
     ]
    }
   ],
   "source": [
    "# 시뮬레이션 할 메뉴를 선택 할 시 팝업 창이 뜨며 flag = 1\n",
    "\n",
    "# 창을 여는 용도로 작성한 코드. 1을 입력할 것.\n",
    "open = input()\n",
    "open = int(open)\n",
    "\n",
    "if(open):\n",
    "    firebase.delete('kamdong2-d9688/User/-MBFI7FtfarEz9bhcBsG/intake_sum',None)\n",
    "    sim_user['intake_sum']['Psum'] += select.iloc[4]\n",
    "    sim_user['intake_sum']['Fsum'] += select.iloc[5]\n",
    "    sim_user['intake_sum']['Csum'] += select.iloc[6]\n",
    "    sim_user['intake_sum']['Susum'] += select.iloc[7]\n",
    "    sim_user['intake_sum']['Nsum'] += select.iloc[8]\n",
    "    sim_user['intake_sum']['SFsum'] += select.iloc[9]\n",
    "    sim_user['intake_sum']['TFsum'] += select.iloc[10]\n",
    "    firebase.put('/kamdong2-d9688/User/-MBFI7FtfarEz9bhcBsG','intake_sum',sim_user['intake_sum'])\n",
    "    print('Update Succeed')\n",
    "    # 확인한 메뉴를 먹을 것인지 최종 확정 (yes : 1 , no : 0)\n",
    "    confirm = input()\n",
    "    confirm = int(confirm)\n",
    "    \n",
    "    # 창 닫는 용도로 작성한 코드. 1을 입력할 것.\n",
    "    close = input()\n",
    "    close = int(close)\n",
    "    \n",
    "    print(confirm)\n",
    "    print(close)\n",
    "    \n",
    "# 시뮬레이션 창을 끄고 확정이 안됐을 경우 원래 사용자의 영양상태로 복귀\n",
    "if((close==True) and (confirm == 0)):\n",
    "    sim_user['intake_sum']['Psum'] -= select.iloc[4]\n",
    "    sim_user['intake_sum']['Fsum'] -= select.iloc[5]\n",
    "    sim_user['intake_sum']['Csum'] -= select.iloc[6]\n",
    "    sim_user['intake_sum']['Susum'] -= select.iloc[7]\n",
    "    sim_user['intake_sum']['Nsum'] -= select.iloc[8]\n",
    "    sim_user['intake_sum']['SFsum'] -= select.iloc[9]\n",
    "    sim_user['intake_sum']['TFsum'] -= select.iloc[10]\n",
    "    firebase.delete('kamdong2-d9688/User/-MBFI7FtfarEz9bhcBsG/intake_sum',None)\n",
    "    firebase.put('/kamdong2-d9688/User/-MBFI7FtfarEz9bhcBsG','intake_sum',sim_user['intake_sum'])\n",
    "    print('Update Succeed')\n",
    "    "
   ]
  },
  {
   "cell_type": "code",
   "execution_count": null,
   "metadata": {},
   "outputs": [],
   "source": []
  }
 ],
 "metadata": {
  "kernelspec": {
   "display_name": "Python 3",
   "language": "python",
   "name": "python3"
  },
  "language_info": {
   "codemirror_mode": {
    "name": "ipython",
    "version": 3
   },
   "file_extension": ".py",
   "mimetype": "text/x-python",
   "name": "python",
   "nbconvert_exporter": "python",
   "pygments_lexer": "ipython3",
   "version": "3.7.7"
  }
 },
 "nbformat": 4,
 "nbformat_minor": 4
}
