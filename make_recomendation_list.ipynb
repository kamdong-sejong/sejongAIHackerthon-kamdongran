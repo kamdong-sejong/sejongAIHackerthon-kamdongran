{
 "cells": [
  {
   "cell_type": "markdown",
   "metadata": {},
   "source": [
    "# 추천되는 식당 데이터 추출 알고리즘"
   ]
  },
  {
   "cell_type": "code",
   "execution_count": 1,
   "metadata": {},
   "outputs": [],
   "source": [
    "# Import database module.\n",
    "\n",
    "from firebase import firebase\n",
    "\n",
    "firebase = firebase.FirebaseApplication(\"https://kamdong2-d9688.firebaseio.com/\",None)\n",
    "\n",
    "\n",
    "#retreiving user data\n",
    "user = firebase.get('/kamdong2-d9688/User/-MBFI7FtfarEz9bhcBsG','')\n",
    "\n",
    "allergic = user[\"allergic\"][\"allergy\"]\n",
    "preference =user[\"preference\"]\n",
    "\n",
    "\n",
    "#retreiving restaurant data\n",
    "res_list= firebase.get('/kamdong2-d9688/restaurant/','')\n",
    "\n",
    "\n",
    "recommendation=1\n",
    "if(recommendation==1):#추천을 받음\n",
    "    firebase.delete('kamdong2-d9688/recommendation',None)\n",
    "    for restaurant in res_list:\n",
    "        if ( (allergic != restaurant['main_ingridient']) and (preference == restaurant['food_type']) ):\n",
    "            result = firebase.post('kamdong2-d9688/recommendation',restaurant)  #삽입\n",
    "\n",
    "        \n",
    "elif(recommendation==0):#추천을 안 받음\n",
    "    firebase.delete('kamdong2-d9688/recommendation',None)\n",
    "    print('All Record Deleted')\n",
    "    for restaurant in res_list:\n",
    "        firebase.post('kamdong2-d9688/recommendation',restaurant)#모든 목록 삽입\n",
    "        \n",
    "#recommendation_DB에 삽입\n",
    "                          \n"
   ]
  },
  {
   "cell_type": "code",
   "execution_count": null,
   "metadata": {},
   "outputs": [],
   "source": []
  }
 ],
 "metadata": {
  "kernelspec": {
   "display_name": "Python 3",
   "language": "python",
   "name": "python3"
  },
  "language_info": {
   "codemirror_mode": {
    "name": "ipython",
    "version": 3
   },
   "file_extension": ".py",
   "mimetype": "text/x-python",
   "name": "python",
   "nbconvert_exporter": "python",
   "pygments_lexer": "ipython3",
   "version": "3.7.7"
  }
 },
 "nbformat": 4,
 "nbformat_minor": 4
}
