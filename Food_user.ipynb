{
 "cells": [
  {
   "cell_type": "markdown",
   "metadata": {},
   "source": [
    "# 임의의 유저 데이터 입력"
   ]
  },
  {
   "cell_type": "code",
   "execution_count": 36,
   "metadata": {},
   "outputs": [],
   "source": [
    "# Import database module.\n",
    "from firebase import firebase\n",
    "firebase = firebase.FirebaseApplication(\"https://kamdong2-d9688.firebaseio.com/\",None)\n",
    "\n",
    "\n",
    "user_a = {\n",
    "        'user_number':1,\n",
    "        'name':'sejong',\n",
    "        'sex':'male',\n",
    "        'height' : 1.6, #추후에 m로 변환해야함\n",
    "        'weight' : 70,\n",
    "        'age' : 24,\n",
    "        'allergic': {\n",
    "            'allergy':'새우'\n",
    "        },\n",
    "        'preference':'면류',\n",
    "        'bmi':'overweight',\n",
    "        'EER': 2552.328,\n",
    "         'C' : 1403.7804,\n",
    "         'P' : 178.66296000000003,\n",
    "         'F' : 382.8492,\n",
    "         'Su' : 255.2328,\n",
    "         'SF' : 127.6164,\n",
    "         'TF' : 25.52328,\n",
    "         'N' :  1.5,\n",
    "         'intake_sum':{\n",
    "             'Csum':0,\n",
    "             'Psum':0,\n",
    "             'Fsum':0,\n",
    "             'Susum':0,\n",
    "             'SFsum':0,\n",
    "             'TFsum':0,\n",
    "             'Nsum':0,\n",
    "         }\n",
    "}\n",
    "\n",
    "user_b = {\n",
    "        'user_number':2,\n",
    "        'name':'konkuk',\n",
    "        'sex':'female',\n",
    "        'height' : 1.6, #추후에 m로 변환해야함\n",
    "        'weight' : 60,\n",
    "        'age' : 30,\n",
    "        'allergic': {\n",
    "            'allergy':'돼지'\n",
    "        },\n",
    "        'preference':'구이류',\n",
    "        'bmi':'overweight',\n",
    "        'EER': 2575.8316,\n",
    "         'C' : 1416.70738,\n",
    "         'P' : 180.30821200000003,\n",
    "         'F' : 386.37474,\n",
    "         'Su' : 257.58316,\n",
    "         'SF' : 128.79158,\n",
    "         'TF' :  25.758316,\n",
    "         'N' :  1.5,\n",
    "          'intake_sum':{\n",
    "             'Csum':0,\n",
    "             'Psum':0,\n",
    "             'Fsum':0,\n",
    "             'Susum':0,\n",
    "             'SFsum':0,\n",
    "             'TFsum':0,\n",
    "             'Nsum':0,\n",
    "         }\n",
    "}\n",
    "\n",
    "class user:\n",
    "    \n",
    "    \n",
    "    name = 'konkuk'\n",
    "\n",
    "    sex = 'female'\n",
    "    height = 1.6 #추후에 m로 변환해야함\n",
    "    weight = 60\n",
    "    age = 30\n",
    "    preference = 'noodle'\n",
    "    \n",
    "   \n",
    "    def cal_BMI(self):\n",
    "        bmi_result = self.weight/(self.height*self.height)\n",
    "        if 18.5 <= bmi_result and bmi_result <= 25:\n",
    "            return 'normal'\n",
    "        if(bmi_result < 18.5 ):\n",
    "            return 'underweight'\n",
    "        if(bmi_result >= 25):\n",
    "            return 'overweight'\n",
    "    \n",
    "    def cal_EER(self): #1일 에너지필요추정량\n",
    "        if self.sex == 'male':\n",
    "            self.EER = 354-6.91*self.age+1.21*(9.36*self.weight+726*self.height)\n",
    "            return self.EER\n",
    "        elif self.sex == 'female':\n",
    "            self.EER = 662-9.53*self.age+1.21*(15.91*self.weight+539.6*self.height)\n",
    "            return self.EER\n",
    "        \n",
    "    def cal_nutrient(self): #필요한 분배 영양소 계산\n",
    "        nutrients = [0,[0,0],[0,0],[0,0],[0,0],0,0,0] # 에너지, 탄(L,H), 단(L,H), 지(L,H), 총당류(L,H), 포화지방, 트랜스지방,나트륨\n",
    "        nutrients[0] = self.EER #에너지\n",
    "        \n",
    "        nutrients[1][0] = self.EER*0.55  #탄수화물L\n",
    "        nutrients[1][1] = self.EER*0.7   #탄수화물H\n",
    "        \n",
    "        nutrients[2][0] = self.EER*0.07  #단백질L\n",
    "        nutrients[2][1] = self.EER*0.2   #단백질H\n",
    "            \n",
    "        nutrients[3][0] = self.EER*0.15  #지질L\n",
    "        nutrients[3][1] = self.EER*0.25  #지질H\n",
    "        \n",
    "        nutrients[4][0] =  self.EER*0.1 #총당류L\n",
    "        nutrients[4][1] =  self.EER*0.2 #총당류H\n",
    "        \n",
    "        nutrients[5] = self.EER*0.05    #포화지방\n",
    "        nutrients[6] = self.EER*0.01    #트랜스지방\n",
    "        nutrients[7] = 1.5              #나트륨\n",
    "        return nutrients\n",
    "    \n",
    "    def take_nutrient(self): #일당 섭취 영양소 증가\n",
    "        for i in self.intake_sum:\n",
    "            self.intake_sum[i] += self.intake[i] \n",
    "\n",
    "a = user()\n",
    "b = user()\n",
    "\n"
   ]
  },
  {
   "cell_type": "code",
   "execution_count": 37,
   "metadata": {},
   "outputs": [
    {
     "data": {
      "text/plain": [
       "'normal'"
      ]
     },
     "execution_count": 37,
     "metadata": {},
     "output_type": "execute_result"
    }
   ],
   "source": [
    "b.cal_BMI()\n"
   ]
  },
  {
   "cell_type": "code",
   "execution_count": 38,
   "metadata": {},
   "outputs": [
    {
     "data": {
      "text/plain": [
       "2575.8316"
      ]
     },
     "execution_count": 38,
     "metadata": {},
     "output_type": "execute_result"
    }
   ],
   "source": [
    "b.cal_EER()"
   ]
  },
  {
   "cell_type": "code",
   "execution_count": 39,
   "metadata": {},
   "outputs": [
    {
     "data": {
      "text/plain": [
       "[2575.8316,\n",
       " [1416.70738, 1803.0821199999998],\n",
       " [180.30821200000003, 515.16632],\n",
       " [386.37474, 643.9579],\n",
       " [257.58316, 515.16632],\n",
       " 128.79158,\n",
       " 25.758316,\n",
       " 1.5]"
      ]
     },
     "execution_count": 39,
     "metadata": {},
     "output_type": "execute_result"
    }
   ],
   "source": [
    "b.cal_nutrient()"
   ]
  },
  {
   "cell_type": "code",
   "execution_count": 40,
   "metadata": {},
   "outputs": [
    {
     "name": "stdout",
     "output_type": "stream",
     "text": [
      "{'name': '-MBFI7FtfarEz9bhcBsG'}\n"
     ]
    }
   ],
   "source": [
    "result = firebase.post('kamdong2-d9688/User',user_b)\n",
    "print(result)\n"
   ]
  },
  {
   "cell_type": "code",
   "execution_count": 41,
   "metadata": {},
   "outputs": [
    {
     "name": "stdout",
     "output_type": "stream",
     "text": [
      "{'name': '-MBFI7R-BIuRJ0rkT-T9'}\n"
     ]
    }
   ],
   "source": [
    "result = firebase.post('kamdong2-d9688/User',user_a)\n",
    "print(result)"
   ]
  },
  {
   "cell_type": "code",
   "execution_count": null,
   "metadata": {},
   "outputs": [],
   "source": []
  },
  {
   "cell_type": "code",
   "execution_count": null,
   "metadata": {},
   "outputs": [],
   "source": []
  }
 ],
 "metadata": {
  "kernelspec": {
   "display_name": "Python 3",
   "language": "python",
   "name": "python3"
  },
  "language_info": {
   "codemirror_mode": {
    "name": "ipython",
    "version": 3
   },
   "file_extension": ".py",
   "mimetype": "text/x-python",
   "name": "python",
   "nbconvert_exporter": "python",
   "pygments_lexer": "ipython3",
   "version": "3.7.7"
  }
 },
 "nbformat": 4,
 "nbformat_minor": 4
}
