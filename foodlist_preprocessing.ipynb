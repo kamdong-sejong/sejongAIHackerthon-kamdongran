{
 "cells": [
  {
   "cell_type": "markdown",
   "metadata": {},
   "source": [
    "## 결측값 처리\n",
    "\n",
    "1. 지질이 0 이면 총 포화 지방산 + 트랜스 지방산 값으로 대체함\n",
    "2. 탄수화물이 0 이면 총 당류로 대체함\n"
   ]
  },
  {
   "cell_type": "code",
   "execution_count": 251,
   "metadata": {},
   "outputs": [],
   "source": [
    "import numpy as np\n",
    "import pandas as pd"
   ]
  },
  {
   "cell_type": "code",
   "execution_count": 252,
   "metadata": {},
   "outputs": [],
   "source": [
    "# read a excel file and make it as a DataFrame\n",
    "raw= pd.read_excel('foodlist.xlsx')"
   ]
  },
  {
   "cell_type": "code",
   "execution_count": 253,
   "metadata": {},
   "outputs": [],
   "source": [
    "# 최대 줄 수 설정\n",
    "pd.set_option('display.max_rows', 1500)\n",
    "# 최대 열 수 설정\n",
    "pd.set_option('display.max_columns', 100)\n",
    "# 표시할 가로의 길이\n",
    "pd.set_option('display.width', 1000)"
   ]
  },
  {
   "cell_type": "code",
   "execution_count": 254,
   "metadata": {
    "scrolled": true
   },
   "outputs": [
    {
     "data": {
      "text/html": [
       "<div>\n",
       "<style scoped>\n",
       "    .dataframe tbody tr th:only-of-type {\n",
       "        vertical-align: middle;\n",
       "    }\n",
       "\n",
       "    .dataframe tbody tr th {\n",
       "        vertical-align: top;\n",
       "    }\n",
       "\n",
       "    .dataframe thead th {\n",
       "        text-align: right;\n",
       "    }\n",
       "</style>\n",
       "<table border=\"1\" class=\"dataframe\">\n",
       "  <thead>\n",
       "    <tr style=\"text-align: right;\">\n",
       "      <th></th>\n",
       "      <th>식품명</th>\n",
       "      <th>제조사</th>\n",
       "      <th>식품군</th>\n",
       "      <th>1회제공량</th>\n",
       "      <th>에너지(Kcal)</th>\n",
       "      <th>단백질(g)</th>\n",
       "      <th>지질(g)</th>\n",
       "      <th>탄수화물(g)</th>\n",
       "      <th>총당류(g)</th>\n",
       "      <th>나트륨(mg)</th>\n",
       "      <th>총 포화 지방산(g)</th>\n",
       "      <th>트랜스 지방산(g)</th>\n",
       "    </tr>\n",
       "  </thead>\n",
       "  <tbody>\n",
       "    <tr>\n",
       "      <th>0</th>\n",
       "      <td>꿩불고기</td>\n",
       "      <td>충주</td>\n",
       "      <td>구이류</td>\n",
       "      <td>500.0</td>\n",
       "      <td>368.800</td>\n",
       "      <td>33.500</td>\n",
       "      <td>8.500</td>\n",
       "      <td>39.700</td>\n",
       "      <td>16.900</td>\n",
       "      <td>1264.310</td>\n",
       "      <td>1.900</td>\n",
       "      <td>0.100</td>\n",
       "    </tr>\n",
       "    <tr>\n",
       "      <th>1</th>\n",
       "      <td>닭갈비</td>\n",
       "      <td>전국(대표)</td>\n",
       "      <td>구이류</td>\n",
       "      <td>400.0</td>\n",
       "      <td>595.610</td>\n",
       "      <td>45.900</td>\n",
       "      <td>25.800</td>\n",
       "      <td>44.900</td>\n",
       "      <td>21.200</td>\n",
       "      <td>1535.830</td>\n",
       "      <td>6.000</td>\n",
       "      <td>0.200</td>\n",
       "    </tr>\n",
       "    <tr>\n",
       "      <th>2</th>\n",
       "      <td>닭갈비</td>\n",
       "      <td>춘천</td>\n",
       "      <td>구이류</td>\n",
       "      <td>300.0</td>\n",
       "      <td>558.470</td>\n",
       "      <td>45.500</td>\n",
       "      <td>31.600</td>\n",
       "      <td>23.100</td>\n",
       "      <td>8.500</td>\n",
       "      <td>1016.940</td>\n",
       "      <td>11.300</td>\n",
       "      <td>0.300</td>\n",
       "    </tr>\n",
       "    <tr>\n",
       "      <th>3</th>\n",
       "      <td>닭꼬치</td>\n",
       "      <td>전국(대표)</td>\n",
       "      <td>구이류</td>\n",
       "      <td>70.0</td>\n",
       "      <td>176.723</td>\n",
       "      <td>11.562</td>\n",
       "      <td>8.565</td>\n",
       "      <td>13.348</td>\n",
       "      <td>3.152</td>\n",
       "      <td>286.911</td>\n",
       "      <td>2.315</td>\n",
       "      <td>0.044</td>\n",
       "    </tr>\n",
       "    <tr>\n",
       "      <th>4</th>\n",
       "      <td>더덕구이</td>\n",
       "      <td>전국(대표)</td>\n",
       "      <td>구이류</td>\n",
       "      <td>100.0</td>\n",
       "      <td>184.000</td>\n",
       "      <td>3.100</td>\n",
       "      <td>5.200</td>\n",
       "      <td>31.100</td>\n",
       "      <td>11.600</td>\n",
       "      <td>743.370</td>\n",
       "      <td>0.800</td>\n",
       "      <td>0.000</td>\n",
       "    </tr>\n",
       "  </tbody>\n",
       "</table>\n",
       "</div>"
      ],
      "text/plain": [
       "    식품명     제조사  식품군  1회제공량  에너지(Kcal)  단백질(g)   지질(g)  탄수화물(g)  총당류(g)   나트륨(mg)  총 포화 지방산(g)  트랜스 지방산(g)\n",
       "0  꿩불고기      충주  구이류  500.0    368.800  33.500   8.500   39.700  16.900  1264.310        1.900       0.100\n",
       "1   닭갈비  전국(대표)  구이류  400.0    595.610  45.900  25.800   44.900  21.200  1535.830        6.000       0.200\n",
       "2   닭갈비      춘천  구이류  300.0    558.470  45.500  31.600   23.100   8.500  1016.940       11.300       0.300\n",
       "3   닭꼬치  전국(대표)  구이류   70.0    176.723  11.562   8.565   13.348   3.152   286.911        2.315       0.044\n",
       "4  더덕구이  전국(대표)  구이류  100.0    184.000   3.100   5.200   31.100  11.600   743.370        0.800       0.000"
      ]
     },
     "execution_count": 254,
     "metadata": {},
     "output_type": "execute_result"
    }
   ],
   "source": [
    "raw.head()"
   ]
  },
  {
   "cell_type": "code",
   "execution_count": 255,
   "metadata": {
    "scrolled": false
   },
   "outputs": [
    {
     "data": {
      "text/plain": [
       "array(['식품명', '제조사', '식품군', '1회제공량', '에너지(Kcal)', '단백질(g)', '지질(g)',\n",
       "       '탄수화물(g)', '총당류(g)', '나트륨(mg)', '총 포화 지방산(g)', '트랜스 지방산(g)'],\n",
       "      dtype=object)"
      ]
     },
     "execution_count": 255,
     "metadata": {},
     "output_type": "execute_result"
    }
   ],
   "source": [
    "pd.unique(raw.columns)"
   ]
  },
  {
   "cell_type": "code",
   "execution_count": 256,
   "metadata": {},
   "outputs": [
    {
     "data": {
      "text/plain": [
       "array(['구이류', '국류', '기타', '김치류', '나물류', '떡류', '만두류', '면류', '무침류', '밥류',\n",
       "       '버거류', '볶음류', '빵류', '아이스크림류', '음료류', '장아찌류', '적류', '전류', '젓갈류',\n",
       "       '조림류', '죽류', '찌개류', '찜류', '탕류', '튀김류', '포류', '피자류', '한과류'],\n",
       "      dtype=object)"
      ]
     },
     "execution_count": 256,
     "metadata": {},
     "output_type": "execute_result"
    }
   ],
   "source": [
    "raw['식품군'].unique()"
   ]
  },
  {
   "cell_type": "code",
   "execution_count": 257,
   "metadata": {},
   "outputs": [
    {
     "data": {
      "text/plain": [
       "array(['충주', '전국(대표)', '춘천', '서울특별시 마포구', '광양', '고흥', '수원', '기장', '태안',\n",
       "       '삼척', '장흥', '괴산', '자연드림', '대전', '포항', '속초', '강릉', '도미노피자', '피자헛',\n",
       "       '미스터피자', '피자에땅', '뽕뜨락피자', '카페띠아모', '요거프레소', '카페베네', '커피마마',\n",
       "       '투썸플레이스', '파스쿠찌', '7번가피자', '파파존스', '롯데리아', '토프레소', '피자스쿨', '공차',\n",
       "       '스타벅스', '앤티앤스프레즐', '이디야커피', '목우촌참피자', '반올림피자샵', '커피빈', '앤젤리너스',\n",
       "       '드롭탑', '커피베이', '파리바게뜨', '피자마루', '오구피자', '서브웨이', '맘스터치', 'KFC',\n",
       "       '피자나라치킨공주', '던킨도너츠', '뚜레쥬르', '평창', '정선', '피자알볼로', '난타5000', '인천',\n",
       "       '여수', '안성', '밀양', '거제', '영주', '전주', '산청', '할리스커피', '맥도날드', '버거킹',\n",
       "       '못난이꽈배기', '크리스피크림도넛', '빽다방', 'XOXO핫도그&커피', '메가커피', '커피에 반하다',\n",
       "       '비알코리아 (주)배스킨라빈스', '탐앤탐스', '카페 봄봄', '부안', '영동', '의정부', '대구광역시 중구',\n",
       "       '광주', '마산', '안동', '영암', '나주', '순천', '남원', '코코호도'], dtype=object)"
      ]
     },
     "execution_count": 257,
     "metadata": {},
     "output_type": "execute_result"
    }
   ],
   "source": [
    "raw['제조사'].unique()"
   ]
  },
  {
   "cell_type": "code",
   "execution_count": null,
   "metadata": {},
   "outputs": [],
   "source": []
  }
 ],
 "metadata": {
  "kernelspec": {
   "display_name": "Python 3",
   "language": "python",
   "name": "python3"
  },
  "language_info": {
   "codemirror_mode": {
    "name": "ipython",
    "version": 3
   },
   "file_extension": ".py",
   "mimetype": "text/x-python",
   "name": "python",
   "nbconvert_exporter": "python",
   "pygments_lexer": "ipython3",
   "version": "3.7.7"
  }
 },
 "nbformat": 4,
 "nbformat_minor": 4
}
